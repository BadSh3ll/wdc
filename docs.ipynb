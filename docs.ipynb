{
 "cells": [
  {
   "cell_type": "markdown",
   "metadata": {},
   "source": [
    "## WCPS query generator documentation\n"
   ]
  },
  {
   "cell_type": "markdown",
   "metadata": {},
   "source": [
    "### 1. General setting\n",
    "\n",
    "Our tasks is to make an effective and convinient WCPS qeuery generator using functionality in Python. It is basically a Python library for this purpose. We can already imagine that we will need to pass certain parameters into relevant methods of some datacube object which should then send the composed qeueries to the provided server (\"https://ows.rasdaman.org/rasdaman/ows\") where they will be processed and returned."
   ]
  },
  {
   "cell_type": "markdown",
   "metadata": {},
   "source": [
    "We will need the following imports:"
   ]
  },
  {
   "cell_type": "code",
   "execution_count": 1,
   "metadata": {},
   "outputs": [],
   "source": [
    "from DBC import DBC\n",
    "from DCO import DCO, AxisSubset\n",
    "from matplotlib import pyplot as plt\n",
    "from matplotlib import colors\n",
    "import numpy as np\n",
    "import netCDF4 as nc\n",
    "from IPython.display import display\n",
    "from PIL import Image\n",
    "\n",
    "import requests\n",
    "from owslib.wcs import WebCoverageService\n",
    "from owslib.wcs import wcs201\n",
    "\n",
    "import io\n",
    "\n",
    "import urllib3\n",
    "\n",
    "urllib3.disable_warnings()"
   ]
  },
  {
   "cell_type": "markdown",
   "metadata": {},
   "source": [
    "---"
   ]
  },
  {
   "cell_type": "markdown",
   "metadata": {},
   "source": [
    "### 2. Data cube object (dco) and data base connection (dbc) class fucntionality\n"
   ]
  },
  {
   "cell_type": "markdown",
   "metadata": {},
   "source": [
    "#### 2.1 DBC()\n",
    "\n",
    " **DBC(*endpoint*)**\n",
    "\n",
    " Creates an instance of DBC object.\n",
    "\n",
    " *Parameters:*\n",
    "\n",
    " **endpoint : *string***\n",
    "\n",
    " Name of a server.\n",
    "\n",
    " *Example:*"
   ]
  },
  {
   "cell_type": "code",
   "execution_count": 2,
   "metadata": {},
   "outputs": [],
   "source": [
    "dbc = DBC(\"https://ows.rasdaman.org/rasdaman/ows\")"
   ]
  },
  {
   "cell_type": "markdown",
   "metadata": {},
   "source": [
    "#### 2.2 DBC.get_covereges\n",
    "\n",
    " **DBC.get_covereges()**\n",
    "\n",
    " To get all available covereges from the server.\n",
    "\n",
    " *Parameters:*\n",
    "\n",
    " \\-\n",
    "\n",
    " *Returns:*\n",
    "\n",
    " String of enumerated coverege names each from new line.\n",
    "\n",
    " *Example:*"
   ]
  },
  {
   "cell_type": "code",
   "execution_count": 3,
   "metadata": {},
   "outputs": [
    {
     "name": "stdout",
     "output_type": "stream",
     "text": [
      "1 - AverageChloroColor\n",
      "2 - AverageChloroColorScaled\n",
      "3 - AverageChloroColor_16\n",
      "4 - AverageChloroColor_2\n",
      "5 - AverageChloroColor_32\n",
      "6 - AverageChloroColor_4\n",
      "7 - AverageChloroColor_64\n",
      "8 - AverageChloroColor_8\n",
      "9 - AvgLandTemp\n",
      "10 - AvgTemperatureColor\n",
      "11 - AvgTemperatureColorScaled\n",
      "12 - AvgTemperatureColor_16\n",
      "13 - AvgTemperatureColor_32\n",
      "14 - AvgTemperatureColor_4\n",
      "15 - AvgTemperatureColor_64\n",
      "16 - AvgTemperatureColor_8\n",
      "17 - Bavaria_50_DSM\n",
      "18 - BlueMarbleCov\n",
      "19 - BlueMarbleCov_16\n",
      "20 - BlueMarbleCov_32\n",
      "21 - BlueMarbleCov_4\n",
      "22 - BlueMarbleCov_64\n",
      "23 - BlueMarbleCov_8\n",
      "24 - Germany_DTM\n",
      "25 - Germany_DTM_16\n",
      "26 - Germany_DTM_32\n",
      "27 - Germany_DTM_4\n",
      "28 - Germany_DTM_64\n",
      "29 - Germany_DTM_8\n",
      "30 - NIR\n",
      "31 - NN3_1\n",
      "32 - NN3_2\n",
      "33 - NN3_3\n",
      "34 - NN3_4\n",
      "35 - RadianceColorScaled\n",
      "36 - S2_L2A_32631_B01_60m\n",
      "37 - S2_L2A_32631_B03_10m\n",
      "38 - S2_L2A_32631_B04_10m\n",
      "39 - S2_L2A_32631_B08_10m\n",
      "40 - S2_L2A_32631_B12_20m\n",
      "41 - S2_L2A_32631_TCI_60m\n",
      "42 - S2_federation_demo\n",
      "43 - Temperature4D\n",
      "44 - climate_cloud\n",
      "45 - climate_earth\n",
      "46 - land_cover_class__esa_test_6\n",
      "47 - mean_summer_airtemp\n",
      "48 - multiband\n",
      "49 - multiband_16\n",
      "50 - multiband_32\n",
      "51 - multiband_4\n",
      "52 - multiband_8\n",
      "53 - ds.earthserver.xyz--7000--AvgTemperatureColorScaled\n",
      "54 - ds.earthserver.xyz--7000--C3S_satellite_soil_moisture_active_daily_dnflag\n",
      "55 - ds.earthserver.xyz--7000--C3S_satellite_soil_moisture_active_daily_flag\n",
      "56 - ds.earthserver.xyz--7000--C3S_satellite_soil_moisture_active_daily_freqbandID\n",
      "57 - ds.earthserver.xyz--7000--C3S_satellite_soil_moisture_active_daily_mode\n",
      "58 - ds.earthserver.xyz--7000--C3S_satellite_soil_moisture_active_daily_sensor\n",
      "59 - ds.earthserver.xyz--7000--C3S_satellite_soil_moisture_active_daily_sm\n",
      "60 - ds.earthserver.xyz--7000--C3S_satellite_soil_moisture_active_daily_sm_uncertainty\n",
      "61 - ds.earthserver.xyz--7000--C3S_satellite_soil_moisture_active_daily_t0\n",
      "62 - ds.earthserver.xyz--7000--C3S_satellite_soil_moisture_combined_daily_dnflag\n",
      "63 - ds.earthserver.xyz--7000--C3S_satellite_soil_moisture_combined_daily_flag\n",
      "64 - ds.earthserver.xyz--7000--C3S_satellite_soil_moisture_combined_daily_freqbandID\n",
      "65 - ds.earthserver.xyz--7000--C3S_satellite_soil_moisture_combined_daily_mode\n",
      "66 - ds.earthserver.xyz--7000--C3S_satellite_soil_moisture_combined_daily_sensor\n",
      "67 - ds.earthserver.xyz--7000--C3S_satellite_soil_moisture_combined_daily_sm\n",
      "68 - ds.earthserver.xyz--7000--C3S_satellite_soil_moisture_combined_daily_sm_uncertainty\n",
      "69 - ds.earthserver.xyz--7000--C3S_satellite_soil_moisture_combined_daily_t0\n",
      "70 - ds.earthserver.xyz--7000--C3S_satellite_soil_moisture_passive_daily_dnflag\n",
      "71 - ds.earthserver.xyz--7000--C3S_satellite_soil_moisture_passive_daily_flag\n",
      "72 - ds.earthserver.xyz--7000--C3S_satellite_soil_moisture_passive_daily_freqbandID\n",
      "73 - ds.earthserver.xyz--7000--C3S_satellite_soil_moisture_passive_daily_mode\n",
      "74 - ds.earthserver.xyz--7000--C3S_satellite_soil_moisture_passive_daily_sensor\n",
      "75 - ds.earthserver.xyz--7000--C3S_satellite_soil_moisture_passive_daily_sm\n",
      "76 - ds.earthserver.xyz--7000--C3S_satellite_soil_moisture_passive_daily_sm_uncertainty\n",
      "77 - ds.earthserver.xyz--7000--C3S_satellite_soil_moisture_passive_daily_t0\n",
      "78 - ds.earthserver.xyz--7000--ERA5\n",
      "79 - ds.earthserver.xyz--7000--EU_DEM\n",
      "80 - ds.earthserver.xyz--7000--S1A_IW_GRD_HH_Greenland\n",
      "81 - ds.earthserver.xyz--7000--S1_GRDH_IW_DV_VH\n",
      "82 - ds.earthserver.xyz--7000--S1_GRDH_IW_DV_VV\n",
      "83 - ds.earthserver.xyz--7000--S1_GRDM_EW_DH_HH\n",
      "84 - ds.earthserver.xyz--7000--S1_GRDM_EW_DH_HV\n",
      "85 - ds.earthserver.xyz--7000--S1_GRDM_EW_DV_VH\n",
      "86 - ds.earthserver.xyz--7000--S1_GRDM_EW_DV_VV\n",
      "87 - ds.earthserver.xyz--7000--S2_L2A_AOT_10m\n",
      "88 - ds.earthserver.xyz--7000--S2_L2A_B01_20m\n",
      "89 - ds.earthserver.xyz--7000--S2_L2A_B02_10m\n",
      "90 - ds.earthserver.xyz--7000--S2_L2A_B03_10m\n",
      "91 - ds.earthserver.xyz--7000--S2_L2A_B04_10m\n",
      "92 - ds.earthserver.xyz--7000--S2_L2A_B05_20m\n",
      "93 - ds.earthserver.xyz--7000--S2_L2A_B06_20m\n",
      "94 - ds.earthserver.xyz--7000--S2_L2A_B07_20m\n",
      "95 - ds.earthserver.xyz--7000--S2_L2A_B08_10m\n",
      "96 - ds.earthserver.xyz--7000--S2_L2A_B09_60m\n",
      "97 - ds.earthserver.xyz--7000--S2_L2A_B11_20m\n",
      "98 - ds.earthserver.xyz--7000--S2_L2A_B12_20m\n",
      "99 - ds.earthserver.xyz--7000--S2_L2A_B8A_20m\n",
      "100 - ds.earthserver.xyz--7000--S2_L2A_CLASSI_60m\n",
      "101 - ds.earthserver.xyz--7000--S2_L2A_CLDPRB_10m\n",
      "102 - ds.earthserver.xyz--7000--S2_L2A_CLDPRB_20m\n",
      "103 - ds.earthserver.xyz--7000--S2_L2A_CLDPRB_60m\n",
      "104 - ds.earthserver.xyz--7000--S2_L2A_CLDPRB_60m_2\n",
      "105 - ds.earthserver.xyz--7000--S2_L2A_CLDPRB_60m_3\n",
      "106 - ds.earthserver.xyz--7000--S2_L2A_CLDPRB_60m_4\n",
      "107 - ds.earthserver.xyz--7000--S2_L2A_SCL_20m\n",
      "108 - ds.earthserver.xyz--7000--S2_L2A_SNWPRB_10m\n",
      "109 - ds.earthserver.xyz--7000--S2_L2A_SNWPRB_20m\n",
      "110 - ds.earthserver.xyz--7000--S2_L2A_SNWPRB_60m\n",
      "111 - ds.earthserver.xyz--7000--S2_L2A_SNWPRB_60m_2\n",
      "112 - ds.earthserver.xyz--7000--S2_L2A_SNWPRB_60m_3\n",
      "113 - ds.earthserver.xyz--7000--S2_L2A_SNWPRB_60m_4\n",
      "114 - ds.earthserver.xyz--7000--S2_L2A_TCI_10m\n",
      "115 - ds.earthserver.xyz--7000--S2_L2A_TCI_Greenland\n",
      "116 - ds.earthserver.xyz--7000--S2_L2A_WVP_10m\n",
      "117 - ds.earthserver.xyz--7000--S3_OLCI_L2_LFR_GIFAPAR_global\n",
      "118 - ds.earthserver.xyz--7000--S3_OLCI_L2_LFR_IWV_global\n",
      "119 - ds.earthserver.xyz--7000--S3_OLCI_L2_LFR_OTCI_global\n",
      "120 - ds.earthserver.xyz--7000--S3_OLCI_L2_LFR_RC681_global\n",
      "121 - ds.earthserver.xyz--7000--S3_OLCI_L2_LFR_RC865_global\n",
      "122 - ds.earthserver.xyz--7000--S3_OLCI_L2_LFR_RC_GIFAPAR_RC681_global\n",
      "123 - ds.earthserver.xyz--7000--S3_OLCI_L2_LFR_RC_GIFAPAR_RC865_global\n",
      "124 - ds.earthserver.xyz--7000--S3_SLSTR_L2_LST_Brazil\n",
      "125 - ds.earthserver.xyz--7000--S3_SLSTR_L2_LST_NDVI_Brazil\n",
      "126 - ds.earthserver.xyz--7000--S3_SLSTR_L2_LST_TCWV_Brazil\n",
      "127 - ds.earthserver.xyz--7000--S3_SLSTR_L2_LST_biome_Brazil\n",
      "128 - ds.earthserver.xyz--7000--S3_SLSTR_L2_LST_fraction_Brazil\n",
      "129 - ds.earthserver.xyz--7000--S3_SLSTR_SL_2_LST__sea_ice_fraction_tx_Greenland\n",
      "130 - ds.earthserver.xyz--7000--S3_SLSTR_SL_2_LST__sea_surface_temperature_tx_Greenland\n",
      "131 - ds.earthserver.xyz--7000--S3_SLSTR_SL_2_LST__sensible_heat_tx_Greenland\n",
      "132 - ds.earthserver.xyz--7000--S3_SLSTR_SL_2_LST__snow_albedo_tx_Greenland\n",
      "133 - ds.earthserver.xyz--7000--S3_SLSTR_SL_2_LST__snow_depth_tx_Greenland\n",
      "134 - ds.earthserver.xyz--7000--S3_SLSTR_SL_2_LST__surface_pressure_tx_Greenland\n",
      "135 - ds.earthserver.xyz--7000--S3_SLSTR_SL_2_LST__temperature_tx_Greenland\n",
      "136 - ds.earthserver.xyz--7000--S3_SLSTR_SL_2_LST__u_wind_tx_Greenland\n",
      "137 - ds.earthserver.xyz--7000--S3_SLSTR_SL_2_LST__v_wind_tx_Greenland\n",
      "138 - ds.earthserver.xyz--7000--S5p_L2_AER_AI_aerosol_index_335_367_global\n",
      "139 - ds.earthserver.xyz--7000--S5p_L2_AER_AI_aerosol_index_335_367_precision_global\n",
      "140 - ds.earthserver.xyz--7000--S5p_L2_AER_AI_aerosol_index_340_380_global\n",
      "141 - ds.earthserver.xyz--7000--S5p_L2_AER_AI_aerosol_index_340_380_precision_global\n",
      "142 - ds.earthserver.xyz--7000--S5p_L2_AER_AI_aerosol_index_354_388_global\n",
      "143 - ds.earthserver.xyz--7000--S5p_L2_AER_AI_aerosol_index_354_388_precision_global\n",
      "144 - ds.earthserver.xyz--7000--S5p_L2_AER_LH_aerosol_mid_height_global\n",
      "145 - ds.earthserver.xyz--7000--S5p_L2_AER_LH_aerosol_mid_height_precision_global\n",
      "146 - ds.earthserver.xyz--7000--S5p_L2_AER_LH_aerosol_mid_pressure_global\n",
      "147 - ds.earthserver.xyz--7000--S5p_L2_AER_LH_aerosol_mid_pressure_precision_global\n",
      "148 - ds.earthserver.xyz--7000--S5p_L2_CH4_methane_mixing_ratio_bias_corrected_global\n",
      "149 - ds.earthserver.xyz--7000--S5p_L2_CH4_methane_mixing_ratio_global\n",
      "150 - ds.earthserver.xyz--7000--S5p_L2_CH4_methane_mixing_ratio_precision_global\n",
      "151 - ds.earthserver.xyz--7000--S5p_L2_CLOUD_cloud_base_height_global\n",
      "152 - ds.earthserver.xyz--7000--S5p_L2_CLOUD_cloud_base_height_precision_global\n",
      "153 - ds.earthserver.xyz--7000--S5p_L2_CLOUD_cloud_base_pressure_global\n",
      "154 - ds.earthserver.xyz--7000--S5p_L2_CLOUD_cloud_base_pressure_precision_global\n",
      "155 - ds.earthserver.xyz--7000--S5p_L2_CLOUD_cloud_fraction_global\n",
      "156 - ds.earthserver.xyz--7000--S5p_L2_CLOUD_cloud_fraction_precision_global\n",
      "157 - ds.earthserver.xyz--7000--S5p_L2_CLOUD_cloud_optical_thickness_global\n",
      "158 - ds.earthserver.xyz--7000--S5p_L2_CLOUD_cloud_optical_thickness_precision_global\n",
      "159 - ds.earthserver.xyz--7000--S5p_L2_CLOUD_cloud_top_height_global\n",
      "160 - ds.earthserver.xyz--7000--S5p_L2_CLOUD_cloud_top_height_precision_global\n",
      "161 - ds.earthserver.xyz--7000--S5p_L2_CLOUD_cloud_top_pressure_global\n",
      "162 - ds.earthserver.xyz--7000--S5p_L2_CLOUD_cloud_top_pressure_precision_global\n",
      "163 - ds.earthserver.xyz--7000--S5p_L2_CO_carbonmonoxide_total_column_corrected_global\n",
      "164 - ds.earthserver.xyz--7000--S5p_L2_CO_carbonmonoxide_total_column_global\n",
      "165 - ds.earthserver.xyz--7000--S5p_L2_CO_carbonmonoxide_total_column_precision_global\n",
      "166 - ds.earthserver.xyz--7000--S5p_L2_HCHO_formaldehyde_tropospheric_vertical_column_global\n",
      "167 - ds.earthserver.xyz--7000--S5p_L2_HCHO_formaldehyde_tropospheric_vertical_column_precision_global\n",
      "168 - ds.earthserver.xyz--7000--S5p_L2_NO2_air_mass_factor_total_global\n",
      "169 - ds.earthserver.xyz--7000--S5p_L2_NO2_air_mass_factor_troposphere_global\n",
      "170 - ds.earthserver.xyz--7000--S5p_L2_NO2_nitrogendioxide_tropospheric_column_global\n",
      "171 - ds.earthserver.xyz--7000--S5p_L2_NO2_nitrogendioxide_tropospheric_column_precision_global\n",
      "172 - ds.earthserver.xyz--7000--S5p_L2_NO2_nitrogendioxide_tropospheric_column_precision_kernel_global\n",
      "173 - ds.earthserver.xyz--7000--S5p_L2_NO2_tm5_tropopause_layer_index_global\n",
      "174 - ds.earthserver.xyz--7000--S5p_L2_O3_ozone_total_vertical_column_global\n",
      "175 - ds.earthserver.xyz--7000--S5p_L2_O3_ozone_total_vertical_column_precision_global\n",
      "176 - ds.earthserver.xyz--7000--S5p_L2_SO2_sulfurdioxide_total_vertical_column_global\n",
      "177 - ds.earthserver.xyz--7000--S5p_L2_SO2_sulfurdioxide_total_vertical_column_precision_global\n",
      "178 - ds.earthserver.xyz--7000--TotalPrecipitation\n",
      "179 - eo-cube.earthserver.xyz--7000--AvgTemperatureColorScaled\n",
      "180 - eo-cube.earthserver.xyz--7000--EU_DEM_Romania\n",
      "181 - eo-cube.earthserver.xyz--7000--LS8_L2_QA_PIXEL_Germany_30m\n",
      "182 - eo-cube.earthserver.xyz--7000--LS8_L2_QA_RADSAT_Germany_30m\n",
      "183 - eo-cube.earthserver.xyz--7000--LS8_L2_SR_B1_Germany_30m\n",
      "184 - eo-cube.earthserver.xyz--7000--LS8_L2_SR_B2_Germany_30m\n",
      "185 - eo-cube.earthserver.xyz--7000--LS8_L2_SR_B3_Germany_30m\n",
      "186 - eo-cube.earthserver.xyz--7000--LS8_L2_SR_B4_Germany_30m\n",
      "187 - eo-cube.earthserver.xyz--7000--LS8_L2_SR_B5_Germany_30m\n",
      "188 - eo-cube.earthserver.xyz--7000--LS8_L2_SR_B6_Germany_30m\n",
      "189 - eo-cube.earthserver.xyz--7000--LS8_L2_SR_B7_Germany_30m\n",
      "190 - eo-cube.earthserver.xyz--7000--LS8_L2_SR_QA_AEROSOL_Germany_30m\n",
      "191 - eo-cube.earthserver.xyz--7000--LS8_L2_ST_ATRAN_Germany_30m\n",
      "192 - eo-cube.earthserver.xyz--7000--LS8_L2_ST_B10_Germany_30m\n",
      "193 - eo-cube.earthserver.xyz--7000--LS8_L2_ST_CDIST_Germany_30m\n",
      "194 - eo-cube.earthserver.xyz--7000--LS8_L2_ST_DRAD_Germany_30m\n",
      "195 - eo-cube.earthserver.xyz--7000--LS8_L2_ST_EMIS_Germany_30m\n",
      "196 - eo-cube.earthserver.xyz--7000--LS8_L2_ST_EMSD_Germany_30m\n",
      "197 - eo-cube.earthserver.xyz--7000--LS8_L2_ST_QA_Germany_30m\n",
      "198 - eo-cube.earthserver.xyz--7000--LS8_L2_ST_TRAD_Germany_30m\n",
      "199 - eo-cube.earthserver.xyz--7000--LS8_L2_ST_URAD_Germany_30m\n",
      "200 - eo-cube.earthserver.xyz--7000--LonLatCoverage_Romania\n",
      "201 - eo-cube.earthserver.xyz--7000--carra_west_cds_albedo\n",
      "202 - ginr.cube4envsec.earthserver.xyz--7000--Bathymetry_insitu\n",
      "203 - ginr.cube4envsec.earthserver.xyz--7000--Bedrock_elevation\n",
      "204 - ginr.cube4envsec.earthserver.xyz--7000--Bedrock_sourceID\n",
      "205 - ginr.cube4envsec.earthserver.xyz--7000--Ice_surface_elevation\n",
      "206 - ginr.cube4envsec.earthserver.xyz--7000--Ice_surface_sourceID\n",
      "207 - lightning.cube4envsec.earthserver.xyz--7000--global_wwlln_lightning_1_0_new\n",
      "208 - lightning.cube4envsec.earthserver.xyz--7000--global_wwlln_lightning_new\n",
      "209 - medicane.cube4envsec.earthserver.xyz--7000--mean_summer_airtemp\n",
      "210 - medicane.cube4envsec.earthserver.xyz--7000--sea_surface_temperature\n",
      "211 - medicane.cube4envsec.earthserver.xyz--7000--wrf_psfc\n",
      "212 - medicane.cube4envsec.earthserver.xyz--7000--wrf_rainc\n",
      "213 - medicane.cube4envsec.earthserver.xyz--7000--wrf_rainnc\n",
      "214 - medicane.cube4envsec.earthserver.xyz--7000--wrf_sst\n",
      "215 - medicane.cube4envsec.earthserver.xyz--7000--wrf_t2\n",
      "216 - medicane.cube4envsec.earthserver.xyz--7000--wrf_u10\n",
      "217 - medicane.cube4envsec.earthserver.xyz--7000--wrf_v10\n",
      "218 - ogc-testbed19-geodatacube.earthserver.xyz--7000--CLMS_Forests_Tree_Cover_Density_TCD_10m\n",
      "219 - ogc-testbed19-geodatacube.earthserver.xyz--7000--CLMS_Grassland_GRA_10m\n",
      "220 - ogc-testbed19-geodatacube.earthserver.xyz--7000--CLMS_Imperviousness_Density_IMD_10m\n",
      "221 - ogc-testbed19-geodatacube.earthserver.xyz--7000--CLMS_Water_Wetness_WAW_10m\n",
      "222 - ogc-testbed19-geodatacube.earthserver.xyz--7000--CMIP6_Daily_maximum_near_surface_air_temperature\n",
      "223 - ogc-testbed19-geodatacube.earthserver.xyz--7000--CMIP6_Daily_minimum_near_surface_air_temperature\n",
      "224 - ogc-testbed19-geodatacube.earthserver.xyz--7000--CMIP6_Near_surface_air_temperature\n",
      "225 - ogc-testbed19-geodatacube.earthserver.xyz--7000--CMIP6_Near_surface_specific_humidity\n",
      "226 - ogc-testbed19-geodatacube.earthserver.xyz--7000--CMIP6_Precipitation\n",
      "227 - ogc-testbed19-geodatacube.earthserver.xyz--7000--CMIP6_Sea_level_pressure\n",
      "228 - ogc-testbed19-geodatacube.earthserver.xyz--7000--ECMWF_Ianos_hsvs_air_temperature\n",
      "229 - ogc-testbed19-geodatacube.earthserver.xyz--7000--ECMWF_Ianos_hsvs_atmosphere_relative_vorticity\n",
      "230 - ogc-testbed19-geodatacube.earthserver.xyz--7000--ECMWF_Ianos_hsvs_divergence_of_wind\n",
      "231 - ogc-testbed19-geodatacube.earthserver.xyz--7000--ECMWF_Ianos_hsvs_eastward_wind\n",
      "232 - ogc-testbed19-geodatacube.earthserver.xyz--7000--ECMWF_Ianos_hsvs_geopotential\n",
      "233 - ogc-testbed19-geodatacube.earthserver.xyz--7000--ECMWF_Ianos_hsvs_lagrangian_tendency_of_air_pressure\n",
      "234 - ogc-testbed19-geodatacube.earthserver.xyz--7000--ECMWF_Ianos_hsvs_northward_wind\n",
      "235 - ogc-testbed19-geodatacube.earthserver.xyz--7000--ECMWF_Ianos_hsvs_relative_humidity\n",
      "236 - ogc-testbed19-geodatacube.earthserver.xyz--7000--ECMWF_Ianos_hsvs_specific_humidity\n",
      "237 - ogc-testbed19-geodatacube.earthserver.xyz--7000--ECMWF_Trixie_ht3e_air_temperature\n",
      "238 - ogc-testbed19-geodatacube.earthserver.xyz--7000--ECMWF_Trixie_ht3e_atmosphere_relative_vorticity\n",
      "239 - ogc-testbed19-geodatacube.earthserver.xyz--7000--ECMWF_Trixie_ht3e_divergence_of_wind\n",
      "240 - ogc-testbed19-geodatacube.earthserver.xyz--7000--ECMWF_Trixie_ht3e_eastward_wind\n",
      "241 - ogc-testbed19-geodatacube.earthserver.xyz--7000--ECMWF_Trixie_ht3e_geopotential\n",
      "242 - ogc-testbed19-geodatacube.earthserver.xyz--7000--ECMWF_Trixie_ht3e_lagrangian_tendency_of_air_pressure\n",
      "243 - ogc-testbed19-geodatacube.earthserver.xyz--7000--ECMWF_Trixie_ht3e_northward_wind\n",
      "244 - ogc-testbed19-geodatacube.earthserver.xyz--7000--ECMWF_Trixie_ht3e_relative_humidity\n",
      "245 - ogc-testbed19-geodatacube.earthserver.xyz--7000--ECMWF_Trixie_ht3e_specific_humidity\n",
      "246 - ogc-testbed19-geodatacube.earthserver.xyz--7000--ERA5\n",
      "247 - ogc-testbed19-geodatacube.earthserver.xyz--7000--SoilGrids_bdod_0_5cm_mean\n",
      "248 - ogc-testbed19-geodatacube.earthserver.xyz--7000--SoilGrids_bdod_100_200cm_mean\n",
      "249 - ogc-testbed19-geodatacube.earthserver.xyz--7000--SoilGrids_bdod_15_30cm_mean\n",
      "250 - ogc-testbed19-geodatacube.earthserver.xyz--7000--SoilGrids_bdod_30_60cm_mean\n",
      "251 - ogc-testbed19-geodatacube.earthserver.xyz--7000--SoilGrids_bdod_5_15cm_mean\n",
      "252 - ogc-testbed19-geodatacube.earthserver.xyz--7000--SoilGrids_bdod_60_100cm_mean\n",
      "253 - ogc-testbed19-geodatacube.earthserver.xyz--7000--SoilGrids_cec_0_5cm_mean\n",
      "254 - ogc-testbed19-geodatacube.earthserver.xyz--7000--SoilGrids_cec_100_200cm_mean\n",
      "255 - ogc-testbed19-geodatacube.earthserver.xyz--7000--SoilGrids_cec_15_30cm_mean\n",
      "256 - ogc-testbed19-geodatacube.earthserver.xyz--7000--SoilGrids_cec_30_60cm_mean\n",
      "257 - ogc-testbed19-geodatacube.earthserver.xyz--7000--SoilGrids_cec_5_15cm_mean\n",
      "258 - ogc-testbed19-geodatacube.earthserver.xyz--7000--SoilGrids_cec_60_100cm_mean\n",
      "259 - ogc-testbed19-geodatacube.earthserver.xyz--7000--SoilGrids_cfvo_100_200cm_mean\n",
      "260 - ogc-testbed19-geodatacube.earthserver.xyz--7000--SoilGrids_cfvo_15_30cm_mean\n",
      "261 - ogc-testbed19-geodatacube.earthserver.xyz--7000--SoilGrids_cfvo_30_60cm_mean\n",
      "262 - ogc-testbed19-geodatacube.earthserver.xyz--7000--SoilGrids_cfvo_5_15cm_mean\n",
      "263 - ogc-testbed19-geodatacube.earthserver.xyz--7000--SoilGrids_cfvo_60_100cm_mean\n",
      "264 - ogc-testbed19-geodatacube.earthserver.xyz--7000--SoilGrids_clay_0_5cm_mean\n",
      "265 - ogc-testbed19-geodatacube.earthserver.xyz--7000--SoilGrids_clay_15_30cm_mean\n",
      "266 - ogc-testbed19-geodatacube.earthserver.xyz--7000--SoilGrids_clay_30_60cm_mean\n",
      "267 - ogc-testbed19-geodatacube.earthserver.xyz--7000--SoilGrids_clay_60_100cm_mean\n",
      "268 - ogc-testbed19-geodatacube.earthserver.xyz--7000--SoilGrids_nitrogen_0_5cm_mean\n",
      "269 - ogc-testbed19-geodatacube.earthserver.xyz--7000--SoilGrids_nitrogen_100_200cm_mean\n",
      "270 - ogc-testbed19-geodatacube.earthserver.xyz--7000--SoilGrids_nitrogen_15_30cm_mean\n",
      "271 - ogc-testbed19-geodatacube.earthserver.xyz--7000--SoilGrids_nitrogen_30_60cm_mean\n",
      "272 - ogc-testbed19-geodatacube.earthserver.xyz--7000--SoilGrids_nitrogen_5_15cm_mean\n",
      "273 - ogc-testbed19-geodatacube.earthserver.xyz--7000--SoilGrids_nitrogen_60_100cm_mean\n",
      "274 - ogc-testbed19-geodatacube.earthserver.xyz--7000--SoilGrids_ocd_0_5cm_mean\n",
      "275 - ogc-testbed19-geodatacube.earthserver.xyz--7000--SoilGrids_ocd_100_200cm_mean\n",
      "276 - ogc-testbed19-geodatacube.earthserver.xyz--7000--SoilGrids_ocd_15_30cm_mean\n",
      "277 - ogc-testbed19-geodatacube.earthserver.xyz--7000--SoilGrids_ocd_30_60cm_mean\n",
      "278 - ogc-testbed19-geodatacube.earthserver.xyz--7000--SoilGrids_ocd_5_15cm_mean\n",
      "279 - ogc-testbed19-geodatacube.earthserver.xyz--7000--SoilGrids_ocd_60_100cm_mean\n",
      "280 - ogc-testbed19-geodatacube.earthserver.xyz--7000--SoilGrids_phh2o_0_5cm_mean\n",
      "281 - ogc-testbed19-geodatacube.earthserver.xyz--7000--SoilGrids_phh2o_100_200cm_mean\n",
      "282 - ogc-testbed19-geodatacube.earthserver.xyz--7000--SoilGrids_phh2o_15_30cm_mean\n",
      "283 - ogc-testbed19-geodatacube.earthserver.xyz--7000--SoilGrids_phh2o_30_60cm_mean\n",
      "284 - ogc-testbed19-geodatacube.earthserver.xyz--7000--SoilGrids_phh2o_5_15cm_mean\n",
      "285 - ogc-testbed19-geodatacube.earthserver.xyz--7000--SoilGrids_phh2o_60_100cm_mean\n",
      "286 - ogc-testbed19-geodatacube.earthserver.xyz--7000--SoilGrids_sand_0_5cm_mean\n",
      "287 - ogc-testbed19-geodatacube.earthserver.xyz--7000--SoilGrids_sand_100_200cm_mean\n",
      "288 - ogc-testbed19-geodatacube.earthserver.xyz--7000--SoilGrids_sand_15_30cm_mean\n",
      "289 - ogc-testbed19-geodatacube.earthserver.xyz--7000--SoilGrids_sand_30_60cm_mean\n",
      "290 - ogc-testbed19-geodatacube.earthserver.xyz--7000--SoilGrids_sand_5_15cm_mean\n",
      "291 - ogc-testbed19-geodatacube.earthserver.xyz--7000--SoilGrids_sand_60_100cm_mean\n",
      "292 - ogc-testbed19-geodatacube.earthserver.xyz--7000--SoilGrids_silt_100_200cm_mean\n",
      "293 - ogc-testbed19-geodatacube.earthserver.xyz--7000--SoilGrids_silt_15_30cm_mean\n",
      "294 - ogc-testbed19-geodatacube.earthserver.xyz--7000--SoilGrids_silt_5_15cm_mean\n",
      "295 - ogc-testbed19-geodatacube.earthserver.xyz--7000--SoilGrids_silt_60_100cm_mean\n",
      "296 - ogc-testbed19-geodatacube.earthserver.xyz--7000--Worldcover_10m_2021_v200\n",
      "297 - thunderstorm.cube4envsec.earthserver.xyz--7000--cb_global_cloud_top_height\n",
      "298 - thunderstorm.cube4envsec.earthserver.xyz--7000--cb_global_development_stage\n",
      "299 - thunderstorm.cube4envsec.earthserver.xyz--7000--cloud_image\n",
      "300 - thunderstorm.cube4envsec.earthserver.xyz--7000--dwd__Blitzdichte\n",
      "301 - thunderstorm.cube4envsec.earthserver.xyz--7000--dwd__Niederschlagsradar\n",
      "302 - thunderstorm.cube4envsec.earthserver.xyz--7000--dwd__Satellite_meteosat_1km_euat_rgb_dust\n",
      "303 - thunderstorm.cube4envsec.earthserver.xyz--7000--dwd__Satellite_meteosat_1km_euat_rgb_volcanicash\n",
      "304 - weather.cube4envsec.earthserver.xyz--7000--cb_horizontal_extent_new\n",
      "305 - weather.cube4envsec.earthserver.xyz--7000--cb_top_new\n",
      "306 - weather.cube4envsec.earthserver.xyz--7000--icing_base_new\n",
      "307 - weather.cube4envsec.earthserver.xyz--7000--icing_degree_code_new\n",
      "308 - weather.cube4envsec.earthserver.xyz--7000--icing_top_new\n",
      "309 - weather.cube4envsec.earthserver.xyz--7000--temperature_new\n",
      "310 - weather.cube4envsec.earthserver.xyz--7000--tropopause_height_new\n",
      "311 - weather.cube4envsec.earthserver.xyz--7000--turbulence_edp_max_new\n",
      "312 - weather.cube4envsec.earthserver.xyz--7000--turbulence_edp_new\n",
      "313 - weather.cube4envsec.earthserver.xyz--7000--wind_alt_new\n",
      "314 - weather.cube4envsec.earthserver.xyz--7000--wind_plev_new\n",
      "\n"
     ]
    }
   ],
   "source": [
    "print(dbc.get_coverages())"
   ]
  },
  {
   "cell_type": "markdown",
   "metadata": {},
   "source": [
    "#### 2.3 DBC.execute_query\n",
    "\n",
    " **DBC.execute_query(*query*)**\n",
    "\n",
    " Posts a request query onto a server.\n",
    "\n",
    " *Parameters:*\n",
    "\n",
    " **query : *string***\n",
    "\n",
    " *Returns:*\n",
    "\n",
    " List of bytes which is a response from the server from whatever user has specified or an error for non-scalar values (use encode() for those) if the query is structured improperly."
   ]
  },
  {
   "cell_type": "markdown",
   "metadata": {},
   "source": [
    "#### 2.4 DCO()\n",
    "\n",
    " **DCO.(*dbc*)**\n",
    "\n",
    " Creates an instance of DCO object\n",
    "\n",
    " *Parameters:*\n",
    "\n",
    " **dbc : *DBC***\n",
    "\n",
    " The corresponding data base connection object\n",
    "\n",
    " *Example:*"
   ]
  },
  {
   "cell_type": "code",
   "execution_count": 4,
   "metadata": {},
   "outputs": [],
   "source": [
    "dco = DCO(dbc)"
   ]
  },
  {
   "cell_type": "markdown",
   "metadata": {
    "jp-MarkdownHeadingCollapsed": true
   },
   "source": [
    "#### 2.5 AxisSubset()\n",
    "\n",
    " **AxisSubset(*operation*, *values*)**\n",
    "\n",
    " Creates an instance of AxisSubset class which contains a query generated from formated input values according to WCPS syntax. Only used as an input argument for **subset()** method.\n",
    "\n",
    " *Parameters:*\n",
    "\n",
    " **operation : *string***\n",
    "\n",
    " **values : *string, int, float, etc***\n",
    "\n",
    " *Example:*\n",
    "\n",
    " see in **subset()** documentation."
   ]
  },
  {
   "cell_type": "markdown",
   "metadata": {},
   "source": [
    "#### 2.6 DCO.select\n",
    "\n",
    " **DCO.select(*variable_name*, *datacube_names*)**\n",
    "\n",
    " Returns subset of a covering\n",
    "\n",
    " *Parameters:*\n",
    "\n",
    " **variable_name : *string***\n",
    "\n",
    " Name of a variable\n",
    "\n",
    " **datacube_names : *list[str]***\n",
    "\n",
    " List of names of datacubes we want to consider\n",
    "\n",
    " *Returns:*\n",
    "\n",
    " **self**\n",
    "\n",
    " *Example:*"
   ]
  },
  {
   "cell_type": "code",
   "execution_count": 5,
   "metadata": {},
   "outputs": [
    {
     "data": {
      "text/plain": [
       "<DCO.DCO at 0x110cad490>"
      ]
     },
     "execution_count": 5,
     "metadata": {},
     "output_type": "execute_result"
    }
   ],
   "source": [
    "dco.select(\"$c\", [\"AvgLandTemp\"])"
   ]
  },
  {
   "cell_type": "markdown",
   "metadata": {},
   "source": [
    "#### 2.7 DCO.subset\n",
    "\n",
    " **DCO.subset(*variable_name*, *subset*)**\n",
    "\n",
    " Returns subset of a covering\n",
    "\n",
    " *Parameters:*\n",
    "\n",
    " **variable_name : *string***\n",
    "\n",
    " Name of a coverage\n",
    "\n",
    " **subset : *string***\n",
    "\n",
    " Range of coordinates in a datacube that we want to consider\n",
    "\n",
    " *Returns:*\n",
    "\n",
    " **self**\n",
    "\n",
    " *Example:*"
   ]
  },
  {
   "cell_type": "code",
   "execution_count": 6,
   "metadata": {},
   "outputs": [
    {
     "data": {
      "text/plain": [
       "<DCO.DCO at 0x110cad490>"
      ]
     },
     "execution_count": 6,
     "metadata": {},
     "output_type": "execute_result"
    }
   ],
   "source": [
    "dco.subset(variable=\"$c\", \n",
    "                      axis_subsets=[AxisSubset('ansi', '2013-08'),\n",
    "                                    AxisSubset('Lat', 25, 90),\n",
    "                                    AxisSubset('Long', -30, 55)])"
   ]
  },
  {
   "cell_type": "markdown",
   "metadata": {},
   "source": [
    "#### 2.8 DCO.transform_data\n",
    "\n",
    " **DCO.transform_data(*transformation*)**\n",
    "\n",
    " Returns a transformed (with desired mathematical operations) coverage. In qeuery it replaces the previously selcted variable with the passed expression, therefore modifying the sected set.\n",
    "\n",
    " *Parameters:*\n",
    "\n",
    " **transformation : *string***\n",
    "\n",
    " Mathematical expression with operations we wish to perform on the coverage\n",
    "\n",
    " *Returns:*\n",
    "\n",
    " **self**\n",
    "\n",
    " *Example:*"
   ]
  },
  {
   "cell_type": "code",
   "execution_count": 7,
   "metadata": {},
   "outputs": [
    {
     "data": {
      "text/plain": [
       "<DCO.DCO at 0x110cad490>"
      ]
     },
     "execution_count": 7,
     "metadata": {},
     "output_type": "execute_result"
    }
   ],
   "source": [
    "dco.transform_data('$c + 10.2')"
   ]
  },
  {
   "cell_type": "markdown",
   "metadata": {},
   "source": [
    "#### 2.9 DCO.set_format\n",
    "\n",
    " **DCO.set_format(*format*)**\n",
    "\n",
    " Lets you specify the format of the coverage. It will then be substituted when we call **execute()**. If this method is specified the encode() is ignored.\n",
    "\n",
    " *Parameters:*\n",
    "\n",
    " **format : *string***\n",
    "\n",
    " Name of a format (png, csv, etc)\n",
    "\n",
    " *Returns:*\n",
    "\n",
    " **self**\n",
    "\n",
    " *Example:*"
   ]
  },
  {
   "cell_type": "code",
   "execution_count": 8,
   "metadata": {},
   "outputs": [
    {
     "data": {
      "text/plain": [
       "<DCO.DCO at 0x110cad490>"
      ]
     },
     "execution_count": 8,
     "metadata": {},
     "output_type": "execute_result"
    }
   ],
   "source": [
    "dco.set_format('image/png')"
   ]
  },
  {
   "cell_type": "markdown",
   "metadata": {},
   "source": [
    "#### 2.10 DCO.custome_encode\n",
    "\n",
    " **DCO.custome_ecode(var)**\n",
    "\n",
    " Provide custome logic for further qeuery execution.\n",
    "\n",
    " *Parameters:*\n",
    "\n",
    " **var : *string***\n",
    "\n",
    " *Returns:*\n",
    "\n",
    " **self**\n",
    "\n",
    " *Example:*"
   ]
  },
  {
   "cell_type": "code",
   "execution_count": 9,
   "metadata": {},
   "outputs": [
    {
     "data": {
      "text/plain": [
       "<DCO.DCO at 0x110cad490>"
      ]
     },
     "execution_count": 9,
     "metadata": {},
     "output_type": "execute_result"
    }
   ],
   "source": [
    "dco.custom_encode('''\n",
    "                    switch\n",
    "                        case $c = 99999\n",
    "                            return {red: 255; green: 255; blue: 255}\n",
    "                        case 18 > $c\n",
    "                            return {red: 0; green: 0; blue: 255}\n",
    "                        case 23 > $c\n",
    "                            return {red: 255; green: 255; blue: 0}\n",
    "                        case 30 > $c\n",
    "                            return {red: 255; green: 140; blue: 0}\n",
    "                        default return {red: 255; green: 0; blue: 0}\n",
    "                       ''')"
   ]
  },
  {
   "cell_type": "markdown",
   "metadata": {},
   "source": [
    "#### 2.11 DCO.execute\n",
    "\n",
    " **DCO.execute()**\n",
    "\n",
    " Calls **execute_query()** method in DBC object we previously passed to our DCO.\n",
    "\n",
    " *Parameters:*\n",
    "\n",
    " \\-\n",
    "\n",
    " *Returns:*\n",
    "\n",
    " **self**\n",
    "\n",
    " *Example:*"
   ]
  },
  {
   "cell_type": "code",
   "execution_count": 10,
   "metadata": {},
   "outputs": [
    {
     "name": "stdout",
     "output_type": "stream",
     "text": [
      "for $c in (AvgLandTemp)\n",
      "return encode(\n",
      "                    switch\n",
      "                        case $c[ansi(\"2013-08\"), Lat(25:90), Long(-30:55)] + 10.2 = 99999\n",
      "                            return {red: 255; green: 255; blue: 255}\n",
      "                        case 18 > $c[ansi(\"2013-08\"), Lat(25:90), Long(-30:55)] + 10.2\n",
      "                            return {red: 0; green: 0; blue: 255}\n",
      "                        case 23 > $c[ansi(\"2013-08\"), Lat(25:90), Long(-30:55)] + 10.2\n",
      "                            return {red: 255; green: 255; blue: 0}\n",
      "                        case 30 > $c[ansi(\"2013-08\"), Lat(25:90), Long(-30:55)] + 10.2\n",
      "                            return {red: 255; green: 140; blue: 0}\n",
      "                        default return {red: 255; green: 0; blue: 0}\n",
      "                       , \"image/png\")\n"
     ]
    }
   ],
   "source": [
    "res = dco.execute()"
   ]
  },
  {
   "cell_type": "code",
   "execution_count": 11,
   "metadata": {},
   "outputs": [
    {
     "data": {
      "image/jpeg": "[encoded data removed]",
      "image/png": "[encoded data removed]",
      "text/plain": [
       "<PIL.PngImagePlugin.PngImageFile image mode=RGB size=850x650>"
      ]
     },
     "metadata": {},
     "output_type": "display_data"
    }
   ],
   "source": [
    "img = Image.open(io.BytesIO(res))\n",
    "display(img)"
   ]
  },
  {
   "cell_type": "markdown",
   "metadata": {},
   "source": [
    "### 3. Aggregation methods"
   ]
  },
  {
   "cell_type": "markdown",
   "metadata": {},
   "source": [
    "Setup for examples:"
   ]
  },
  {
   "cell_type": "markdown",
   "metadata": {},
   "source": [
    "#### 3.1 DCO.min\n",
    "\n",
    " **DCO.min()**\n",
    "\n",
    " Returns minimum out of all points in coverage.\n",
    "\n",
    " *Parameters:*\n",
    "\n",
    " \\-\n",
    "\n",
    " *Returns:*\n",
    "\n",
    " **float**\n",
    "\n",
    " *Example:*"
   ]
  },
  {
   "cell_type": "code",
   "execution_count": 12,
   "metadata": {},
   "outputs": [
    {
     "name": "stdout",
     "output_type": "stream",
     "text": [
      "for $c in (AvgLandTemp)\n",
      "return min($c[ansi(\"2013-07\":\"2015-04\"), Lat(54.08), Long(8.8)])\n",
      "b'1.4566929'\n"
     ]
    }
   ],
   "source": [
    "dco2 = DCO(dbc)\n",
    "dco2.select(\"$c\", [\"AvgLandTemp\"])\n",
    "dco2.subset(variable=\"$c\", \n",
    "                      axis_subsets=[AxisSubset('ansi', '2013-07', '2015-04'),\n",
    "                                    AxisSubset('Lat', 54.08),\n",
    "                                    AxisSubset('Long', 8.80)])\n",
    "\n",
    "min_res = dco2.min().execute()\n",
    "print(min_res)"
   ]
  },
  {
   "cell_type": "markdown",
   "metadata": {},
   "source": [
    "#### 3.2 max()\n",
    "\n",
    " **DCO.max()**\n",
    "\n",
    " Returns maximum out of all points in coverage.\n",
    "\n",
    " *Parameters:*\n",
    "\n",
    " \\-\n",
    "\n",
    " *Returns:*\n",
    "\n",
    " **float**"
   ]
  },
  {
   "cell_type": "code",
   "execution_count": 13,
   "metadata": {},
   "outputs": [
    {
     "name": "stdout",
     "output_type": "stream",
     "text": [
      "for $c in (AvgLandTemp)\n",
      "return max($c[ansi(\"2013-07\":\"2015-04\"), Lat(54.08), Long(8.8)])\n",
      "b'23.779528'\n"
     ]
    }
   ],
   "source": [
    "dco2 = DCO(dbc)\n",
    "dco2.select(\"$c\", [\"AvgLandTemp\"])\n",
    "dco2.subset(variable=\"$c\", \n",
    "                      axis_subsets=[AxisSubset('ansi', '2013-07', '2015-04'),\n",
    "                                    AxisSubset('Lat', 54.08),\n",
    "                                    AxisSubset('Long', 8.80)])\n",
    "\n",
    "max_res = dco2.max().execute()\n",
    "print(max_res)"
   ]
  },
  {
   "cell_type": "markdown",
   "metadata": {},
   "source": [
    "#### 3.3 sum()\n",
    "\n",
    " **DCO.sum()**\n",
    "\n",
    " Returns the sum of all points in coverage.\n",
    "\n",
    " *Parameters:*\n",
    "\n",
    " \\-\n",
    "\n",
    " *Returns:*\n",
    "\n",
    " **float**"
   ]
  },
  {
   "cell_type": "code",
   "execution_count": 14,
   "metadata": {},
   "outputs": [
    {
     "name": "stdout",
     "output_type": "stream",
     "text": [
      "for $c in (AvgLandTemp)\n",
      "return sum($c[ansi(\"2013-07\":\"2015-04\"), Lat(54.08), Long(8.8)])\n",
      "b'253.34645688533783'\n"
     ]
    }
   ],
   "source": [
    "dco2 = DCO(dbc)\n",
    "dco2.select(\"$c\", [\"AvgLandTemp\"])\n",
    "dco2.subset(variable=\"$c\", \n",
    "                      axis_subsets=[AxisSubset('ansi', '2013-07', '2015-04'),\n",
    "                                    AxisSubset('Lat', 54.08),\n",
    "                                    AxisSubset('Long', 8.80)])\n",
    "\n",
    "sum_res = dco2.sum().execute()\n",
    "print(sum_res)"
   ]
  },
  {
   "cell_type": "markdown",
   "metadata": {},
   "source": [
    "#### 3.4 avg()\n",
    "\n",
    " **DCO.avg()**\n",
    "\n",
    " Returns the average of all points in coverage.\n",
    "\n",
    " *Parameters:*\n",
    "\n",
    " \\-\n",
    "\n",
    " *Returns:*\n",
    "\n",
    " **float**"
   ]
  },
  {
   "cell_type": "code",
   "execution_count": 15,
   "metadata": {},
   "outputs": [
    {
     "name": "stdout",
     "output_type": "stream",
     "text": [
      "for $c in (AvgLandTemp)\n",
      "return avg($c[ansi(\"2013-07\":\"2015-04\"), Lat(54.08), Long(8.8)])\n",
      "b'11.515748040242629'\n"
     ]
    }
   ],
   "source": [
    "dco2 = DCO(dbc)\n",
    "dco2.select(\"$c\", [\"AvgLandTemp\"])\n",
    "dco2.subset(variable=\"$c\", \n",
    "                      axis_subsets=[AxisSubset('ansi', '2013-07', '2015-04'),\n",
    "                                    AxisSubset('Lat', 54.08),\n",
    "                                    AxisSubset('Long', 8.80)])\n",
    "\n",
    "avg_res = dco2.avg().execute()\n",
    "print(avg_res)"
   ]
  },
  {
   "cell_type": "markdown",
   "metadata": {},
   "source": [
    "#### 3.5 count()\n",
    "\n",
    " **DCO.count()**\n",
    "\n",
    " Returns the number of all points in coverage.\n",
    "\n",
    " *Parameters:*\n",
    "\n",
    " \\-\n",
    "\n",
    " *Returns:*\n",
    "\n",
    " **int**"
   ]
  },
  {
   "cell_type": "code",
   "execution_count": 16,
   "metadata": {},
   "outputs": [
    {
     "name": "stdout",
     "output_type": "stream",
     "text": [
      "for $c in (AvgLandTemp)\n",
      "return cellCount($c[ansi(\"2013-07\":\"2015-04\"), Lat(54.08:56), Long(8.8:10)])\n",
      "b'53'\n"
     ]
    }
   ],
   "source": [
    "dco2 = DCO(dbc)\n",
    "dco2.select(\"$c\", [\"AvgLandTemp\"])\n",
    "dco2.subset(variable=\"$c\", \n",
    "                    axis_subsets=[AxisSubset('ansi', '2013-07', '2015-04'),\n",
    "                                AxisSubset('Lat', 54.08, 56),\n",
    "                                AxisSubset('Long', 8.80, 10)])\n",
    "\n",
    "count_res = dco2.count().execute()\n",
    "print(count_res)"
   ]
  },
  {
   "cell_type": "markdown",
   "metadata": {},
   "source": [
    "## Sprint 2"
   ]
  },
  {
   "cell_type": "markdown",
   "metadata": {},
   "source": [
    "### Overview\n",
    "This documentation highlights the major changes implemented across three key components: the DCO class and  unit tests. As well as usage instructions."
   ]
  },
  {
   "cell_type": "markdown",
   "metadata": {},
   "source": [
    "### 1. DCO Class\n",
    "#### Major Changes:\n",
    "\n",
    "Refactored Initialization:\n",
    "- Simplified the constructor to include clear documentation and variable initialization.\n",
    "- Grouped operations like selection, subset, and where clauses into well-documented methods.\n",
    "\n",
    "New Utility Functions:\n",
    "- Gradient Image Construction: construct_gradient_image enables the creation of gradient images based on specified variables.\n",
    "- Temperature Conversion: celsius_to_kelvin converts temperature data from Celsius to Kelvin.\n",
    "- Polygon Clipping: clip_with_polygon extracts data within a polygonal geographic region.\n",
    "- Threshold Querying: greater_than_query counts data cells exceeding a given value.\n",
    "\n",
    "Usage Example:"
   ]
  },
  {
   "cell_type": "code",
   "execution_count": 17,
   "metadata": {},
   "outputs": [
    {
     "data": {
      "text/plain": [
       "<DCO.DCO at 0x110cf7650>"
      ]
     },
     "execution_count": 17,
     "metadata": {},
     "output_type": "execute_result"
    }
   ],
   "source": [
    "dco5 = DCO(dbc)\n",
    "dco5.select(\"$c\", [\"AverageChloroColor\"])"
   ]
  },
  {
   "cell_type": "code",
   "execution_count": 18,
   "metadata": {},
   "outputs": [
    {
     "name": "stdout",
     "output_type": "stream",
     "text": [
      "for $c in (AverageChloroColor)\n",
      "return encode(\n",
      "            coverage myCoverage over\n",
      "                $p x(0:200),\n",
      "                $q y(0:200)\n",
      "            values $p + $q\n",
      "        , \"image/png\")\n"
     ]
    }
   ],
   "source": [
    "dco5.construct_gradient_image(variable=\"$c\")\n",
    "dco5.set_format('image/png')\n",
    "output5 = dco5.execute()"
   ]
  },
  {
   "cell_type": "code",
   "execution_count": 19,
   "metadata": {},
   "outputs": [],
   "source": [
    "img2 = Image.open(io.BytesIO(output5))\n",
    "img2.show()"
   ]
  },
  {
   "cell_type": "markdown",
   "metadata": {},
   "source": [
    "## 2.Unit Tests\n",
    "#### Major Changes:\n",
    "Covered all new utility functions like construct_gradient_image and celsius_to_kelvin.\n",
    "\n",
    "###### How to Run Tests:\n",
    "\n",
    "Ensure unittest is available in your environment.\n",
    "Execute the following command in the project directory:\n",
    "\n",
    "\n",
    "`python -m unittest discover -v`\n",
    "\n",
    "Sample Output:"
   ]
  },
  {
   "cell_type": "markdown",
   "metadata": {},
   "source": [
    "> Success messages indicating all tests passed.\n",
    "\n",
    ">Detailed error messages if any tests fail."
   ]
  },
  {
   "cell_type": "markdown",
   "metadata": {},
   "source": [
    "### Example on how to use new functions:"
   ]
  },
  {
   "cell_type": "markdown",
   "metadata": {},
   "source": [
    "#### 3.6 describe_coverage()\n",
    "\n",
    " **dbc.describe_coverage(coverage_id)**\n",
    "\n",
    " Returns the name of axis labels, the dimensions, the low limits and the high limits of the selected coverage.\n",
    "\n",
    " *Parameters:*\n",
    "\n",
    " coverage_id\n",
    "\n",
    " *Returns:*\n",
    "\n",
    " **dictionary**"
   ]
  },
  {
   "cell_type": "code",
   "execution_count": 20,
   "metadata": {},
   "outputs": [
    {
     "name": "stdout",
     "output_type": "stream",
     "text": [
      "{'axis_labels': ['ansi', 'E', 'N'], 'dimension': 3, 'low_limits': ['0', '0', '0'], 'high_limits': ['0', '5999', '2499']}\n"
     ]
    }
   ],
   "source": [
    "coverage_id = \"S2_L2A_32631_B08_10m\"\n",
    "description = dbc.describe_coverage(coverage_id)\n",
    "print(description)"
   ]
  },
  {
   "cell_type": "markdown",
   "metadata": {},
   "source": [
    "### 4. Arithmetic operations for handling more than two variables from different coverages with the same subset"
   ]
  },
  {
   "cell_type": "markdown",
   "metadata": {},
   "source": [
    "#### 4.1 DCO.selectMultVar\n",
    "\n",
    " **DCO.selectMultVar(*variable_names*, *datacube_names*)**\n",
    "\n",
    " Select multiple variables and corresponding datacubes in preparation for executing a query or operation on those variables\n",
    "\n",
    " *Parameters:*\n",
    "\n",
    " **variables_names : *list[str]***\n",
    "\n",
    " List with name of variables\n",
    "\n",
    " **datacube_names : *list[str]***\n",
    "\n",
    " List of names of datacubes we want to consider\n",
    "\n",
    " *Returns:*\n",
    "\n",
    " **self**\n",
    "\n",
    " *Example:*"
   ]
  },
  {
   "cell_type": "code",
   "execution_count": 21,
   "metadata": {},
   "outputs": [
    {
     "data": {
      "text/plain": [
       "<DCO.DCO at 0x117975eb0>"
      ]
     },
     "execution_count": 21,
     "metadata": {},
     "output_type": "execute_result"
    }
   ],
   "source": [
    "dco3 = DCO(dbc)\n",
    "\n",
    "# Select multiple variables and coverages\n",
    "variables = ['$c', '$d']  # List of variables\n",
    "\n",
    "coverage_id1 = \"ogc-testbed19-geodatacube.earthserver.xyz--7000--CMIP6_Daily_maximum_near_surface_air_temperature\"\n",
    "coverage_id2 = \"ogc-testbed19-geodatacube.earthserver.xyz--7000--CMIP6_Daily_minimum_near_surface_air_temperature\"\n",
    "\n",
    "datacubes = [coverage_id1, coverage_id2]  # List of cooverage id\n",
    "\n",
    "dco3.selectMultVar(variables, datacubes)"
   ]
  },
  {
   "cell_type": "markdown",
   "metadata": {},
   "source": [
    "#### 4.2 DCO.subsetMultVar\n",
    "\n",
    " **DCO.only_subset (*axis_subsets*)**\n",
    "\n",
    " Function that returns only the subset used for two variable functions\n",
    "\n",
    " *Parameters:*\n",
    "\n",
    "**axis_subsets : *list[str]***\n",
    "\n",
    " List of subset specifications in the form List[AxisSubset]\n",
    "\n",
    " *Returns:*\n",
    "\n",
    " **self**\n",
    "\n",
    " *Example:*"
   ]
  },
  {
   "cell_type": "code",
   "execution_count": 22,
   "metadata": {},
   "outputs": [
    {
     "data": {
      "text/plain": [
       "<DCO.DCO at 0x117975eb0>"
      ]
     },
     "execution_count": 22,
     "metadata": {},
     "output_type": "execute_result"
    }
   ],
   "source": [
    "# Set subset for each variable\n",
    "dco3.only_subset(axis_subsets=[AxisSubset('time', '2015-01-01T12:00:00.000Z'),\n",
    "                                AxisSubset('Lat', 40),\n",
    "                                AxisSubset('Long', 40)])"
   ]
  },
  {
   "cell_type": "markdown",
   "metadata": {},
   "source": [
    "#### 4.3 DCO.executeMultVar\n",
    "\n",
    " **DCO.executeMultVar()**\n",
    "\n",
    " Calls **execute_query()** method in DBC object we previously passed to our DCO for multiple variables.\n",
    "\n",
    " *Parameters:*\n",
    "\n",
    " \\-\n",
    "\n",
    " *Returns:*\n",
    "\n",
    " **self.__dbc.execute_query(query)**"
   ]
  },
  {
   "cell_type": "markdown",
   "metadata": {},
   "source": [
    "#### 4.4 DCO.calculate_difference\n",
    "\n",
    " **DCO.calculate_difference ()**\n",
    "\n",
    " Function that calculates the difference between two numerical variables in different coverages with same subset\n",
    "\n",
    " *Parameters:*\n",
    "\n",
    "none\n",
    "\n",
    " *Returns:*\n",
    "\n",
    " **self**\n",
    "\n",
    " *Example:*"
   ]
  },
  {
   "cell_type": "code",
   "execution_count": 23,
   "metadata": {},
   "outputs": [
    {
     "name": "stdout",
     "output_type": "stream",
     "text": [
      "for $c in (ogc-testbed19-geodatacube.earthserver.xyz--7000--CMIP6_Daily_maximum_near_surface_air_temperature), $d in (ogc-testbed19-geodatacube.earthserver.xyz--7000--CMIP6_Daily_minimum_near_surface_air_temperature)\n",
      "return\n",
      "$c[time(\"2015-01-01T12:00:00.000Z\"), Lat(40), Long(40)] - $d[time(\"2015-01-01T12:00:00.000Z\"), Lat(40), Long(40)]\n"
     ]
    },
    {
     "data": {
      "text/plain": [
       "b'4.8843994'"
      ]
     },
     "execution_count": 23,
     "metadata": {},
     "output_type": "execute_result"
    }
   ],
   "source": [
    "dco3.calculate_difference().executeMultVar()"
   ]
  },
  {
   "cell_type": "markdown",
   "metadata": {},
   "source": [
    "#### 4.5 DCO.calculate_Sum\n",
    "\n",
    " **DCO.calculate_Sum ()**\n",
    "\n",
    " Function that calculates the sum between two numerical variables in different coverages with same subset\n",
    "\n",
    " *Parameters:*\n",
    "\n",
    "none\n",
    "\n",
    " *Returns:*\n",
    "\n",
    " **self**\n",
    "\n",
    " *Example:*"
   ]
  },
  {
   "cell_type": "code",
   "execution_count": 24,
   "metadata": {},
   "outputs": [
    {
     "name": "stdout",
     "output_type": "stream",
     "text": [
      "for $c in (ogc-testbed19-geodatacube.earthserver.xyz--7000--CMIP6_Daily_maximum_near_surface_air_temperature), $d in (ogc-testbed19-geodatacube.earthserver.xyz--7000--CMIP6_Daily_minimum_near_surface_air_temperature)\n",
      "return\n",
      "$c[time(\"2015-01-01T12:00:00.000Z\"), Lat(40), Long(40)] + $d[time(\"2015-01-01T12:00:00.000Z\"), Lat(40), Long(40)]\n"
     ]
    },
    {
     "data": {
      "text/plain": [
       "b'521.32227'"
      ]
     },
     "execution_count": 24,
     "metadata": {},
     "output_type": "execute_result"
    }
   ],
   "source": [
    "dco3.calculate_Sum().executeMultVar()"
   ]
  },
  {
   "cell_type": "markdown",
   "metadata": {},
   "source": [
    "#### 4.6 DCO.calculate_Avg\n",
    "\n",
    " **DCO.calculate_Avg ()**\n",
    "\n",
    " Function that calculates the average between two numerical variables in different coverages with same subset\n",
    "\n",
    " *Parameters:*\n",
    "\n",
    "none\n",
    "\n",
    " *Returns:*\n",
    "\n",
    " **self**\n",
    "\n",
    " *Example:*"
   ]
  },
  {
   "cell_type": "code",
   "execution_count": 25,
   "metadata": {},
   "outputs": [
    {
     "name": "stdout",
     "output_type": "stream",
     "text": [
      "for $c in (ogc-testbed19-geodatacube.earthserver.xyz--7000--CMIP6_Daily_maximum_near_surface_air_temperature), $d in (ogc-testbed19-geodatacube.earthserver.xyz--7000--CMIP6_Daily_minimum_near_surface_air_temperature)\n",
      "return\n",
      "($c[time(\"2015-01-01T12:00:00.000Z\"), Lat(40), Long(40)] + $d[time(\"2015-01-01T12:00:00.000Z\"), Lat(40), Long(40)])/2\n"
     ]
    },
    {
     "data": {
      "text/plain": [
       "b'260.6611328125'"
      ]
     },
     "execution_count": 25,
     "metadata": {},
     "output_type": "execute_result"
    }
   ],
   "source": [
    "dco3.calculate_Avg().executeMultVar()"
   ]
  },
  {
   "cell_type": "markdown",
   "metadata": {},
   "source": [
    "#### 4.7 DCO.calculate_Product\n",
    "\n",
    " **DCO.calculate_Product ()**\n",
    "\n",
    " Function that calculates the product between two numerical variables in different coverages with same subset\n",
    "\n",
    " *Parameters:*\n",
    "\n",
    "none\n",
    "\n",
    " *Returns:*\n",
    "\n",
    " **self**\n",
    "\n",
    " *Example:*"
   ]
  },
  {
   "cell_type": "code",
   "execution_count": 26,
   "metadata": {},
   "outputs": [
    {
     "name": "stdout",
     "output_type": "stream",
     "text": [
      "for $c in (ogc-testbed19-geodatacube.earthserver.xyz--7000--CMIP6_Daily_maximum_near_surface_air_temperature), $d in (ogc-testbed19-geodatacube.earthserver.xyz--7000--CMIP6_Daily_minimum_near_surface_air_temperature)\n",
      "return\n",
      "$c[time(\"2015-01-01T12:00:00.000Z\"), Lat(40), Long(40)] * $d[time(\"2015-01-01T12:00:00.000Z\"), Lat(40), Long(40)]\n"
     ]
    },
    {
     "data": {
      "text/plain": [
       "b'67938.266'"
      ]
     },
     "execution_count": 26,
     "metadata": {},
     "output_type": "execute_result"
    }
   ],
   "source": [
    "dco3.calculate_Product().executeMultVar()"
   ]
  },
  {
   "cell_type": "markdown",
   "metadata": {},
   "source": [
    "#### 4.8 DCO.calculate_Ratio\n",
    "\n",
    " **DCO.calculate_Ratio ()**\n",
    "\n",
    " Function that calculates the ratio between two numerical variables in different coverages with same subset\n",
    "\n",
    " *Parameters:*\n",
    "\n",
    "none\n",
    "\n",
    " *Returns:*\n",
    "\n",
    " **self**\n",
    "\n",
    " *Example:*"
   ]
  },
  {
   "cell_type": "code",
   "execution_count": 27,
   "metadata": {},
   "outputs": [
    {
     "name": "stdout",
     "output_type": "stream",
     "text": [
      "for $c in (ogc-testbed19-geodatacube.earthserver.xyz--7000--CMIP6_Daily_maximum_near_surface_air_temperature), $d in (ogc-testbed19-geodatacube.earthserver.xyz--7000--CMIP6_Daily_minimum_near_surface_air_temperature)\n",
      "return\n",
      "$c[time(\"2015-01-01T12:00:00.000Z\"), Lat(40), Long(40)] / $d[time(\"2015-01-01T12:00:00.000Z\"), Lat(40), Long(40)]\n"
     ]
    },
    {
     "data": {
      "text/plain": [
       "b'1.0189158'"
      ]
     },
     "execution_count": 27,
     "metadata": {},
     "output_type": "execute_result"
    }
   ],
   "source": [
    "dco3.calculate_Ratio().executeMultVar()"
   ]
  },
  {
   "cell_type": "markdown",
   "metadata": {},
   "source": [
    "#### 4.9 DCO.executeMultVar\n",
    "\n",
    " **DCO.executeMultVar ()**\n",
    "\n",
    " Function that returns the variables from different coverages with the same subset used for future functions\n",
    "\n",
    " *Parameters:*\n",
    "\n",
    "none\n",
    "\n",
    " *Returns:*\n",
    "\n",
    " **self**\n",
    "\n",
    " *Example:*"
   ]
  },
  {
   "cell_type": "code",
   "execution_count": 28,
   "metadata": {},
   "outputs": [
    {
     "data": {
      "text/plain": [
       "<DCO.DCO at 0x117977d40>"
      ]
     },
     "execution_count": 28,
     "metadata": {},
     "output_type": "execute_result"
    }
   ],
   "source": [
    "dco4 = DCO(dbc)\n",
    "\n",
    "# Select multiple variables and coverages\n",
    "variables = ['$c', '$d']  # List of variables\n",
    "\n",
    "coverage_id1 = \"ogc-testbed19-geodatacube.earthserver.xyz--7000--CMIP6_Daily_maximum_near_surface_air_temperature\"\n",
    "coverage_id2 = \"ogc-testbed19-geodatacube.earthserver.xyz--7000--CMIP6_Daily_minimum_near_surface_air_temperature\"\n",
    "\n",
    "datacubes = [coverage_id1, coverage_id2]  # List of coverage id\n",
    "\n",
    "dco4.selectMultVar(variables, datacubes)\n",
    "dco4.subset_to_variables(variables, axis_subsets=[AxisSubset('time', '2015-01-01T12:00:00.000Z'),\n",
    "                                AxisSubset('Lat', 40),\n",
    "                                AxisSubset('Long', 40)])"
   ]
  },
  {
   "cell_type": "code",
   "execution_count": 29,
   "metadata": {},
   "outputs": [
    {
     "name": "stdout",
     "output_type": "stream",
     "text": [
      "for $c in (ogc-testbed19-geodatacube.earthserver.xyz--7000--CMIP6_Daily_maximum_near_surface_air_temperature), $d in (ogc-testbed19-geodatacube.earthserver.xyz--7000--CMIP6_Daily_minimum_near_surface_air_temperature)\n",
      "return\n",
      "$c[time(\"2015-01-01T12:00:00.000Z\"), Lat(40), Long(40)], $d[time(\"2015-01-01T12:00:00.000Z\"), Lat(40), Long(40)]\n"
     ]
    },
    {
     "data": {
      "text/plain": [
       "b'263.10333'"
      ]
     },
     "execution_count": 29,
     "metadata": {},
     "output_type": "execute_result"
    }
   ],
   "source": [
    "dco4.executeMultVar()"
   ]
  },
  {
   "cell_type": "markdown",
   "metadata": {},
   "source": [
    "#### Conclusion\n",
    "These improvements have expanded the capabilities of the DCO class, introduced flexible data querying features, and ensured robust error handling via comprehensive unit tests. The new utility functions and improved data visualization techniques were built upon the previous sprint's work. Furthermore, more functions for handling multiple coverages data were added."
   ]
  },
  {
   "cell_type": "markdown",
   "metadata": {},
   "source": [
    "#### Authors\n",
    "- Evelyn Quintero\n",
    "- Solomon Njora"
   ]
  }
 ],
 "metadata": {
  "kernelspec": {
   "display_name": "Python 3 (ipykernel)",
   "language": "python",
   "name": "python3"
  },
  "language_info": {
   "codemirror_mode": {
    "name": "ipython",
    "version": 3
   },
   "file_extension": ".py",
   "mimetype": "text/x-python",
   "name": "python",
   "nbconvert_exporter": "python",
   "pygments_lexer": "ipython3",
   "version": "3.12.3"
  }
 },
 "nbformat": 4,
 "nbformat_minor": 4
}
